{
 "cells": [
  {
   "cell_type": "markdown",
   "metadata": {},
   "source": [
    "## Pandas"
   ]
  },
  {
   "cell_type": "code",
   "execution_count": 1,
   "metadata": {},
   "outputs": [
    {
     "data": {
      "text/plain": [
       "'0.24.2'"
      ]
     },
     "execution_count": 1,
     "metadata": {},
     "output_type": "execute_result"
    }
   ],
   "source": [
    "import pandas as pd\n",
    "import numpy as np\n",
    "\n",
    "pd.__version__"
   ]
  },
  {
   "cell_type": "code",
   "execution_count": 5,
   "metadata": {},
   "outputs": [
    {
     "data": {
      "text/plain": [
       "0     5\n",
       "1     6\n",
       "2     7\n",
       "3     8\n",
       "4     9\n",
       "5    10\n",
       "6    11\n",
       "7    12\n",
       "8    13\n",
       "9    14\n",
       "dtype: int32"
      ]
     },
     "execution_count": 5,
     "metadata": {},
     "output_type": "execute_result"
    }
   ],
   "source": [
    "data = pd.Series(np.arange(5,15))\n",
    "data"
   ]
  },
  {
   "cell_type": "code",
   "execution_count": 6,
   "metadata": {},
   "outputs": [
    {
     "data": {
      "text/plain": [
       "7"
      ]
     },
     "execution_count": 6,
     "metadata": {},
     "output_type": "execute_result"
    }
   ],
   "source": [
    "data[2]"
   ]
  },
  {
   "cell_type": "code",
   "execution_count": 7,
   "metadata": {},
   "outputs": [
    {
     "data": {
      "text/plain": [
       "2    7\n",
       "3    8\n",
       "4    9\n",
       "dtype: int32"
      ]
     },
     "execution_count": 7,
     "metadata": {},
     "output_type": "execute_result"
    }
   ],
   "source": [
    "data[2:5]"
   ]
  },
  {
   "cell_type": "code",
   "execution_count": 9,
   "metadata": {},
   "outputs": [
    {
     "data": {
      "text/plain": [
       "a    0.21\n",
       "b    0.54\n",
       "c    0.75\n",
       "d    0.65\n",
       "dtype: float64"
      ]
     },
     "execution_count": 9,
     "metadata": {},
     "output_type": "execute_result"
    }
   ],
   "source": [
    "data = pd.Series([0.21,0.54,0.75,0.65], index=['a','b','c','d'])\n",
    "data"
   ]
  },
  {
   "cell_type": "code",
   "execution_count": 10,
   "metadata": {},
   "outputs": [
    {
     "data": {
      "text/plain": [
       "0.54"
      ]
     },
     "execution_count": 10,
     "metadata": {},
     "output_type": "execute_result"
    }
   ],
   "source": [
    "data['b']"
   ]
  },
  {
   "cell_type": "code",
   "execution_count": 13,
   "metadata": {},
   "outputs": [
    {
     "data": {
      "text/plain": [
       "2.2    0.21\n",
       "3.1    0.54\n",
       "4.0    0.75\n",
       "5.0    0.65\n",
       "dtype: float64"
      ]
     },
     "execution_count": 13,
     "metadata": {},
     "output_type": "execute_result"
    }
   ],
   "source": [
    "data = pd.Series([0.21,0.54,0.75,0.65], index=[2.2,3.1,4,5])\n",
    "data"
   ]
  },
  {
   "cell_type": "code",
   "execution_count": 14,
   "metadata": {},
   "outputs": [
    {
     "data": {
      "text/plain": [
       "2.2    0.21\n",
       "3.1    0.54\n",
       "4.0    0.75\n",
       "dtype: float64"
      ]
     },
     "execution_count": 14,
     "metadata": {},
     "output_type": "execute_result"
    }
   ],
   "source": [
    "data[2:4]"
   ]
  },
  {
   "cell_type": "code",
   "execution_count": 16,
   "metadata": {},
   "outputs": [
    {
     "data": {
      "text/plain": [
       "H      [1, 2]\n",
       "I      [2, 3]\n",
       "T      [6, 2]\n",
       "E      [5, 8]\n",
       "S    [5.6, 1]\n",
       "dtype: object"
      ]
     },
     "execution_count": 16,
     "metadata": {},
     "output_type": "execute_result"
    }
   ],
   "source": [
    "pop = {'H':[1,2], 'I':[2,3], 'T':[6,2], 'E':[5,8], 'S':[5.6,1]}\n",
    "pop\n",
    "pd.Series(pop)\n"
   ]
  },
  {
   "cell_type": "code",
   "execution_count": 18,
   "metadata": {},
   "outputs": [
    {
     "data": {
      "text/plain": [
       "[2, 3]"
      ]
     },
     "execution_count": 18,
     "metadata": {},
     "output_type": "execute_result"
    }
   ],
   "source": [
    "pop['I']"
   ]
  },
  {
   "cell_type": "code",
   "execution_count": 19,
   "metadata": {},
   "outputs": [
    {
     "ename": "TypeError",
     "evalue": "unhashable type: 'slice'",
     "output_type": "error",
     "traceback": [
      "\u001b[1;31m---------------------------------------------------------------------------\u001b[0m",
      "\u001b[1;31mTypeError\u001b[0m                                 Traceback (most recent call last)",
      "\u001b[1;32m<ipython-input-19-3f877a5b397e>\u001b[0m in \u001b[0;36m<module>\u001b[1;34m\u001b[0m\n\u001b[1;32m----> 1\u001b[1;33m \u001b[0mpop\u001b[0m\u001b[1;33m[\u001b[0m\u001b[1;34m'I'\u001b[0m\u001b[1;33m:\u001b[0m\u001b[1;34m'E'\u001b[0m\u001b[1;33m]\u001b[0m\u001b[1;33m\u001b[0m\u001b[1;33m\u001b[0m\u001b[0m\n\u001b[0m",
      "\u001b[1;31mTypeError\u001b[0m: unhashable type: 'slice'"
     ]
    }
   ],
   "source": [
    "pop['I':'E']"
   ]
  },
  {
   "cell_type": "code",
   "execution_count": 42,
   "metadata": {},
   "outputs": [
    {
     "data": {
      "text/html": [
       "<div>\n",
       "<style scoped>\n",
       "    .dataframe tbody tr th:only-of-type {\n",
       "        vertical-align: middle;\n",
       "    }\n",
       "\n",
       "    .dataframe tbody tr th {\n",
       "        vertical-align: top;\n",
       "    }\n",
       "\n",
       "    .dataframe thead th {\n",
       "        text-align: right;\n",
       "    }\n",
       "</style>\n",
       "<table border=\"1\" class=\"dataframe\">\n",
       "  <thead>\n",
       "    <tr style=\"text-align: right;\">\n",
       "      <th></th>\n",
       "      <th>name</th>\n",
       "      <th>age</th>\n",
       "    </tr>\n",
       "  </thead>\n",
       "  <tbody>\n",
       "    <tr>\n",
       "      <th>Hitesh</th>\n",
       "      <td>Bhandup</td>\n",
       "      <td>23.0</td>\n",
       "    </tr>\n",
       "    <tr>\n",
       "      <th>Pukraj</th>\n",
       "      <td>Rajasthan</td>\n",
       "      <td>27.0</td>\n",
       "    </tr>\n",
       "    <tr>\n",
       "      <th>Sagar</th>\n",
       "      <td>Kalewadi</td>\n",
       "      <td>21.0</td>\n",
       "    </tr>\n",
       "    <tr>\n",
       "      <th>Shreyashi</th>\n",
       "      <td>Dombivali</td>\n",
       "      <td>NaN</td>\n",
       "    </tr>\n",
       "    <tr>\n",
       "      <th>Taral</th>\n",
       "      <td>NaN</td>\n",
       "      <td>22.0</td>\n",
       "    </tr>\n",
       "  </tbody>\n",
       "</table>\n",
       "</div>"
      ],
      "text/plain": [
       "                name   age\n",
       "Hitesh       Bhandup  23.0\n",
       "Pukraj     Rajasthan  27.0\n",
       "Sagar       Kalewadi  21.0\n",
       "Shreyashi  Dombivali   NaN\n",
       "Taral            NaN  22.0"
      ]
     },
     "execution_count": 42,
     "metadata": {},
     "output_type": "execute_result"
    }
   ],
   "source": [
    "name = {'Hitesh': 'Bhandup', 'Sagar': 'Kalewadi', 'Shreyashi':'Dombivali', 'Pukraj':'Rajasthan'}\n",
    "age = {'Hitesh': 23, 'Sagar': 21, 'Taral':22, 'Pukraj':27}\n",
    "pd.DataFrame({'name': name,'age': age})"
   ]
  },
  {
   "cell_type": "code",
   "execution_count": 25,
   "metadata": {},
   "outputs": [
    {
     "data": {
      "text/html": [
       "<div>\n",
       "<style scoped>\n",
       "    .dataframe tbody tr th:only-of-type {\n",
       "        vertical-align: middle;\n",
       "    }\n",
       "\n",
       "    .dataframe tbody tr th {\n",
       "        vertical-align: top;\n",
       "    }\n",
       "\n",
       "    .dataframe thead th {\n",
       "        text-align: right;\n",
       "    }\n",
       "</style>\n",
       "<table border=\"1\" class=\"dataframe\">\n",
       "  <thead>\n",
       "    <tr style=\"text-align: right;\">\n",
       "      <th></th>\n",
       "      <th>Foo</th>\n",
       "      <th>Bar</th>\n",
       "      <th>Ant</th>\n",
       "    </tr>\n",
       "  </thead>\n",
       "  <tbody>\n",
       "    <tr>\n",
       "      <th>a</th>\n",
       "      <td>0.492552</td>\n",
       "      <td>0.737428</td>\n",
       "      <td>0.604930</td>\n",
       "    </tr>\n",
       "    <tr>\n",
       "      <th>b</th>\n",
       "      <td>0.956319</td>\n",
       "      <td>0.755726</td>\n",
       "      <td>0.244243</td>\n",
       "    </tr>\n",
       "    <tr>\n",
       "      <th>c</th>\n",
       "      <td>0.765136</td>\n",
       "      <td>0.019474</td>\n",
       "      <td>0.312237</td>\n",
       "    </tr>\n",
       "  </tbody>\n",
       "</table>\n",
       "</div>"
      ],
      "text/plain": [
       "        Foo       Bar       Ant\n",
       "a  0.492552  0.737428  0.604930\n",
       "b  0.956319  0.755726  0.244243\n",
       "c  0.765136  0.019474  0.312237"
      ]
     },
     "execution_count": 25,
     "metadata": {},
     "output_type": "execute_result"
    }
   ],
   "source": [
    "pd.DataFrame(np.random.rand(3,3), columns=['Foo','Bar','Ant'], index=['a','b','c'])\n"
   ]
  },
  {
   "cell_type": "code",
   "execution_count": 27,
   "metadata": {},
   "outputs": [
    {
     "data": {
      "text/plain": [
       "array([(0, 0.), (0, 0.), (0, 0.)], dtype=[('A', '<i8'), ('B', '<f8')])"
      ]
     },
     "execution_count": 27,
     "metadata": {},
     "output_type": "execute_result"
    }
   ],
   "source": [
    "A = np.zeros(3, dtype=[('A','i8'), ('B','f8')])\n",
    "A"
   ]
  },
  {
   "cell_type": "code",
   "execution_count": 28,
   "metadata": {},
   "outputs": [
    {
     "data": {
      "text/html": [
       "<div>\n",
       "<style scoped>\n",
       "    .dataframe tbody tr th:only-of-type {\n",
       "        vertical-align: middle;\n",
       "    }\n",
       "\n",
       "    .dataframe tbody tr th {\n",
       "        vertical-align: top;\n",
       "    }\n",
       "\n",
       "    .dataframe thead th {\n",
       "        text-align: right;\n",
       "    }\n",
       "</style>\n",
       "<table border=\"1\" class=\"dataframe\">\n",
       "  <thead>\n",
       "    <tr style=\"text-align: right;\">\n",
       "      <th></th>\n",
       "      <th>A</th>\n",
       "      <th>B</th>\n",
       "    </tr>\n",
       "  </thead>\n",
       "  <tbody>\n",
       "    <tr>\n",
       "      <th>0</th>\n",
       "      <td>0</td>\n",
       "      <td>0.0</td>\n",
       "    </tr>\n",
       "    <tr>\n",
       "      <th>1</th>\n",
       "      <td>0</td>\n",
       "      <td>0.0</td>\n",
       "    </tr>\n",
       "    <tr>\n",
       "      <th>2</th>\n",
       "      <td>0</td>\n",
       "      <td>0.0</td>\n",
       "    </tr>\n",
       "  </tbody>\n",
       "</table>\n",
       "</div>"
      ],
      "text/plain": [
       "   A    B\n",
       "0  0  0.0\n",
       "1  0  0.0\n",
       "2  0  0.0"
      ]
     },
     "execution_count": 28,
     "metadata": {},
     "output_type": "execute_result"
    }
   ],
   "source": [
    "pd.DataFrame(A)"
   ]
  },
  {
   "cell_type": "code",
   "execution_count": 30,
   "metadata": {},
   "outputs": [
    {
     "data": {
      "text/plain": [
       "a    0.25\n",
       "b    0.35\n",
       "c    0.50\n",
       "d    0.75\n",
       "dtype: float64"
      ]
     },
     "execution_count": 30,
     "metadata": {},
     "output_type": "execute_result"
    }
   ],
   "source": [
    "data1 = pd.Series([0.25,0.35,0.50,0.75], index=['a','b','c','d'])\n",
    "data1"
   ]
  },
  {
   "cell_type": "code",
   "execution_count": 31,
   "metadata": {},
   "outputs": [
    {
     "data": {
      "text/plain": [
       "0.5"
      ]
     },
     "execution_count": 31,
     "metadata": {},
     "output_type": "execute_result"
    }
   ],
   "source": [
    "data1['c']"
   ]
  },
  {
   "cell_type": "code",
   "execution_count": 34,
   "metadata": {},
   "outputs": [
    {
     "ename": "SyntaxError",
     "evalue": "unexpected EOF while parsing (<ipython-input-34-270477da9a1f>, line 1)",
     "output_type": "error",
     "traceback": [
      "\u001b[1;36m  File \u001b[1;32m\"<ipython-input-34-270477da9a1f>\"\u001b[1;36m, line \u001b[1;32m1\u001b[0m\n\u001b[1;33m    data['a':'c'\u001b[0m\n\u001b[1;37m                ^\u001b[0m\n\u001b[1;31mSyntaxError\u001b[0m\u001b[1;31m:\u001b[0m unexpected EOF while parsing\n"
     ]
    }
   ],
   "source": [
    "data['a':'c'"
   ]
  },
  {
   "cell_type": "code",
   "execution_count": 35,
   "metadata": {},
   "outputs": [
    {
     "data": {
      "text/plain": [
       "a    0.25\n",
       "b    0.35\n",
       "c    0.50\n",
       "dtype: float64"
      ]
     },
     "execution_count": 35,
     "metadata": {},
     "output_type": "execute_result"
    }
   ],
   "source": [
    "# slicing by explicit index\n",
    "data1['a':'c']"
   ]
  },
  {
   "cell_type": "code",
   "execution_count": 36,
   "metadata": {},
   "outputs": [
    {
     "data": {
      "text/plain": [
       "a    0.25\n",
       "b    0.35\n",
       "dtype: float64"
      ]
     },
     "execution_count": 36,
     "metadata": {},
     "output_type": "execute_result"
    }
   ],
   "source": [
    "# slicing by implicit integer index\n",
    "data1[0:2]"
   ]
  },
  {
   "cell_type": "code",
   "execution_count": 39,
   "metadata": {},
   "outputs": [
    {
     "data": {
      "text/plain": [
       "b    0.35\n",
       "dtype: float64"
      ]
     },
     "execution_count": 39,
     "metadata": {},
     "output_type": "execute_result"
    }
   ],
   "source": [
    "# masking\n",
    "data1[(data1 >0.3) & (data1 < 0.40)] "
   ]
  },
  {
   "cell_type": "code",
   "execution_count": 40,
   "metadata": {},
   "outputs": [
    {
     "data": {
      "text/plain": [
       "a    0.25\n",
       "c    0.50\n",
       "dtype: float64"
      ]
     },
     "execution_count": 40,
     "metadata": {},
     "output_type": "execute_result"
    }
   ],
   "source": [
    "# fancy indexing\n",
    "data1[['a','c']]"
   ]
  },
  {
   "cell_type": "code",
   "execution_count": 41,
   "metadata": {},
   "outputs": [
    {
     "data": {
      "text/plain": [
       "2.2    0.21\n",
       "3.1    0.54\n",
       "4.0    0.75\n",
       "5.0    0.65\n",
       "dtype: float64"
      ]
     },
     "execution_count": 41,
     "metadata": {},
     "output_type": "execute_result"
    }
   ],
   "source": [
    "data"
   ]
  },
  {
   "cell_type": "code",
   "execution_count": 1,
   "metadata": {},
   "outputs": [
    {
     "data": {
      "text/html": [
       "<div>\n",
       "<style scoped>\n",
       "    .dataframe tbody tr th:only-of-type {\n",
       "        vertical-align: middle;\n",
       "    }\n",
       "\n",
       "    .dataframe tbody tr th {\n",
       "        vertical-align: top;\n",
       "    }\n",
       "\n",
       "    .dataframe thead th {\n",
       "        text-align: right;\n",
       "    }\n",
       "</style>\n",
       "<table border=\"1\" class=\"dataframe\">\n",
       "  <thead>\n",
       "    <tr style=\"text-align: right;\">\n",
       "      <th></th>\n",
       "      <th>marks1</th>\n",
       "      <th>marks2</th>\n",
       "      <th>marks3</th>\n",
       "    </tr>\n",
       "  </thead>\n",
       "  <tbody>\n",
       "    <tr>\n",
       "      <th>Hitesh</th>\n",
       "      <td>55</td>\n",
       "      <td>82</td>\n",
       "      <td>79</td>\n",
       "    </tr>\n",
       "    <tr>\n",
       "      <th>Pratik</th>\n",
       "      <td>68</td>\n",
       "      <td>58</td>\n",
       "      <td>49</td>\n",
       "    </tr>\n",
       "    <tr>\n",
       "      <th>Pukraj</th>\n",
       "      <td>50</td>\n",
       "      <td>71</td>\n",
       "      <td>48</td>\n",
       "    </tr>\n",
       "    <tr>\n",
       "      <th>Sagar</th>\n",
       "      <td>45</td>\n",
       "      <td>55</td>\n",
       "      <td>78</td>\n",
       "    </tr>\n",
       "    <tr>\n",
       "      <th>Shreyashi</th>\n",
       "      <td>60</td>\n",
       "      <td>67</td>\n",
       "      <td>67</td>\n",
       "    </tr>\n",
       "    <tr>\n",
       "      <th>Taral</th>\n",
       "      <td>60</td>\n",
       "      <td>64</td>\n",
       "      <td>82</td>\n",
       "    </tr>\n",
       "  </tbody>\n",
       "</table>\n",
       "</div>"
      ],
      "text/plain": [
       "           marks1  marks2  marks3\n",
       "Hitesh         55      82      79\n",
       "Pratik         68      58      49\n",
       "Pukraj         50      71      48\n",
       "Sagar          45      55      78\n",
       "Shreyashi      60      67      67\n",
       "Taral          60      64      82"
      ]
     },
     "execution_count": 1,
     "metadata": {},
     "output_type": "execute_result"
    }
   ],
   "source": [
    "import pandas as pd\n",
    "marks1 = {'Sagar':45, 'Hitesh': 55, 'Taral': 60, 'Pukraj': 50, 'Shreyashi': 60, 'Pratik': 68}\n",
    "marks2 = {'Sagar':55, 'Hitesh': 82, 'Taral': 64, 'Pukraj': 71, 'Shreyashi': 67, 'Pratik': 58}\n",
    "marks3 = {'Sagar':78, 'Hitesh': 79, 'Taral': 82, 'Pukraj': 48, 'Shreyashi': 67, 'Pratik': 49}\n",
    "students = pd.DataFrame({'marks1':marks1, 'marks2':marks2, 'marks3':marks3,})\n",
    "students"
   ]
  },
  {
   "cell_type": "code",
   "execution_count": 45,
   "metadata": {},
   "outputs": [
    {
     "data": {
      "text/plain": [
       "Hitesh       82\n",
       "Pratik       58\n",
       "Pukraj       71\n",
       "Sagar        55\n",
       "Shreyashi    67\n",
       "Taral        64\n",
       "Name: marks2, dtype: int64"
      ]
     },
     "execution_count": 45,
     "metadata": {},
     "output_type": "execute_result"
    }
   ],
   "source": [
    "students['marks2']"
   ]
  },
  {
   "cell_type": "code",
   "execution_count": 46,
   "metadata": {},
   "outputs": [
    {
     "data": {
      "text/html": [
       "<div>\n",
       "<style scoped>\n",
       "    .dataframe tbody tr th:only-of-type {\n",
       "        vertical-align: middle;\n",
       "    }\n",
       "\n",
       "    .dataframe tbody tr th {\n",
       "        vertical-align: top;\n",
       "    }\n",
       "\n",
       "    .dataframe thead th {\n",
       "        text-align: right;\n",
       "    }\n",
       "</style>\n",
       "<table border=\"1\" class=\"dataframe\">\n",
       "  <thead>\n",
       "    <tr style=\"text-align: right;\">\n",
       "      <th></th>\n",
       "      <th>marks1</th>\n",
       "      <th>marks2</th>\n",
       "      <th>marks3</th>\n",
       "      <th>total</th>\n",
       "    </tr>\n",
       "  </thead>\n",
       "  <tbody>\n",
       "    <tr>\n",
       "      <th>Hitesh</th>\n",
       "      <td>55</td>\n",
       "      <td>82</td>\n",
       "      <td>79</td>\n",
       "      <td>216</td>\n",
       "    </tr>\n",
       "    <tr>\n",
       "      <th>Pratik</th>\n",
       "      <td>68</td>\n",
       "      <td>58</td>\n",
       "      <td>49</td>\n",
       "      <td>175</td>\n",
       "    </tr>\n",
       "    <tr>\n",
       "      <th>Pukraj</th>\n",
       "      <td>50</td>\n",
       "      <td>71</td>\n",
       "      <td>48</td>\n",
       "      <td>169</td>\n",
       "    </tr>\n",
       "    <tr>\n",
       "      <th>Sagar</th>\n",
       "      <td>45</td>\n",
       "      <td>55</td>\n",
       "      <td>78</td>\n",
       "      <td>178</td>\n",
       "    </tr>\n",
       "    <tr>\n",
       "      <th>Shreyashi</th>\n",
       "      <td>60</td>\n",
       "      <td>67</td>\n",
       "      <td>67</td>\n",
       "      <td>194</td>\n",
       "    </tr>\n",
       "    <tr>\n",
       "      <th>Taral</th>\n",
       "      <td>60</td>\n",
       "      <td>64</td>\n",
       "      <td>82</td>\n",
       "      <td>206</td>\n",
       "    </tr>\n",
       "  </tbody>\n",
       "</table>\n",
       "</div>"
      ],
      "text/plain": [
       "           marks1  marks2  marks3  total\n",
       "Hitesh         55      82      79    216\n",
       "Pratik         68      58      49    175\n",
       "Pukraj         50      71      48    169\n",
       "Sagar          45      55      78    178\n",
       "Shreyashi      60      67      67    194\n",
       "Taral          60      64      82    206"
      ]
     },
     "execution_count": 46,
     "metadata": {},
     "output_type": "execute_result"
    }
   ],
   "source": [
    "students['total'] = students['marks1'] + students['marks2'] + students['marks3']\n",
    "students"
   ]
  },
  {
   "cell_type": "code",
   "execution_count": 47,
   "metadata": {},
   "outputs": [
    {
     "data": {
      "text/html": [
       "<div>\n",
       "<style scoped>\n",
       "    .dataframe tbody tr th:only-of-type {\n",
       "        vertical-align: middle;\n",
       "    }\n",
       "\n",
       "    .dataframe tbody tr th {\n",
       "        vertical-align: top;\n",
       "    }\n",
       "\n",
       "    .dataframe thead th {\n",
       "        text-align: right;\n",
       "    }\n",
       "</style>\n",
       "<table border=\"1\" class=\"dataframe\">\n",
       "  <thead>\n",
       "    <tr style=\"text-align: right;\">\n",
       "      <th></th>\n",
       "      <th>marks1</th>\n",
       "      <th>marks2</th>\n",
       "      <th>marks3</th>\n",
       "      <th>total</th>\n",
       "      <th>average</th>\n",
       "    </tr>\n",
       "  </thead>\n",
       "  <tbody>\n",
       "    <tr>\n",
       "      <th>Hitesh</th>\n",
       "      <td>55</td>\n",
       "      <td>82</td>\n",
       "      <td>79</td>\n",
       "      <td>216</td>\n",
       "      <td>163.333333</td>\n",
       "    </tr>\n",
       "    <tr>\n",
       "      <th>Pratik</th>\n",
       "      <td>68</td>\n",
       "      <td>58</td>\n",
       "      <td>49</td>\n",
       "      <td>175</td>\n",
       "      <td>142.333333</td>\n",
       "    </tr>\n",
       "    <tr>\n",
       "      <th>Pukraj</th>\n",
       "      <td>50</td>\n",
       "      <td>71</td>\n",
       "      <td>48</td>\n",
       "      <td>169</td>\n",
       "      <td>137.000000</td>\n",
       "    </tr>\n",
       "    <tr>\n",
       "      <th>Sagar</th>\n",
       "      <td>45</td>\n",
       "      <td>55</td>\n",
       "      <td>78</td>\n",
       "      <td>178</td>\n",
       "      <td>126.000000</td>\n",
       "    </tr>\n",
       "    <tr>\n",
       "      <th>Shreyashi</th>\n",
       "      <td>60</td>\n",
       "      <td>67</td>\n",
       "      <td>67</td>\n",
       "      <td>194</td>\n",
       "      <td>149.333333</td>\n",
       "    </tr>\n",
       "    <tr>\n",
       "      <th>Taral</th>\n",
       "      <td>60</td>\n",
       "      <td>64</td>\n",
       "      <td>82</td>\n",
       "      <td>206</td>\n",
       "      <td>151.333333</td>\n",
       "    </tr>\n",
       "  </tbody>\n",
       "</table>\n",
       "</div>"
      ],
      "text/plain": [
       "           marks1  marks2  marks3  total     average\n",
       "Hitesh         55      82      79    216  163.333333\n",
       "Pratik         68      58      49    175  142.333333\n",
       "Pukraj         50      71      48    169  137.000000\n",
       "Sagar          45      55      78    178  126.000000\n",
       "Shreyashi      60      67      67    194  149.333333\n",
       "Taral          60      64      82    206  151.333333"
      ]
     },
     "execution_count": 47,
     "metadata": {},
     "output_type": "execute_result"
    }
   ],
   "source": [
    "students['average'] = students['marks1'] + students['marks2'] + students['marks3'] / 3\n",
    "students"
   ]
  },
  {
   "cell_type": "code",
   "execution_count": 48,
   "metadata": {},
   "outputs": [
    {
     "data": {
      "text/html": [
       "<div>\n",
       "<style scoped>\n",
       "    .dataframe tbody tr th:only-of-type {\n",
       "        vertical-align: middle;\n",
       "    }\n",
       "\n",
       "    .dataframe tbody tr th {\n",
       "        vertical-align: top;\n",
       "    }\n",
       "\n",
       "    .dataframe thead th {\n",
       "        text-align: right;\n",
       "    }\n",
       "</style>\n",
       "<table border=\"1\" class=\"dataframe\">\n",
       "  <thead>\n",
       "    <tr style=\"text-align: right;\">\n",
       "      <th></th>\n",
       "      <th>marks1</th>\n",
       "      <th>marks2</th>\n",
       "      <th>marks3</th>\n",
       "      <th>total</th>\n",
       "      <th>average</th>\n",
       "      <th>Percentage</th>\n",
       "    </tr>\n",
       "  </thead>\n",
       "  <tbody>\n",
       "    <tr>\n",
       "      <th>Hitesh</th>\n",
       "      <td>55</td>\n",
       "      <td>82</td>\n",
       "      <td>79</td>\n",
       "      <td>216</td>\n",
       "      <td>163.333333</td>\n",
       "      <td>72.000000</td>\n",
       "    </tr>\n",
       "    <tr>\n",
       "      <th>Pratik</th>\n",
       "      <td>68</td>\n",
       "      <td>58</td>\n",
       "      <td>49</td>\n",
       "      <td>175</td>\n",
       "      <td>142.333333</td>\n",
       "      <td>58.333333</td>\n",
       "    </tr>\n",
       "    <tr>\n",
       "      <th>Pukraj</th>\n",
       "      <td>50</td>\n",
       "      <td>71</td>\n",
       "      <td>48</td>\n",
       "      <td>169</td>\n",
       "      <td>137.000000</td>\n",
       "      <td>56.333333</td>\n",
       "    </tr>\n",
       "    <tr>\n",
       "      <th>Sagar</th>\n",
       "      <td>45</td>\n",
       "      <td>55</td>\n",
       "      <td>78</td>\n",
       "      <td>178</td>\n",
       "      <td>126.000000</td>\n",
       "      <td>59.333333</td>\n",
       "    </tr>\n",
       "    <tr>\n",
       "      <th>Shreyashi</th>\n",
       "      <td>60</td>\n",
       "      <td>67</td>\n",
       "      <td>67</td>\n",
       "      <td>194</td>\n",
       "      <td>149.333333</td>\n",
       "      <td>64.666667</td>\n",
       "    </tr>\n",
       "    <tr>\n",
       "      <th>Taral</th>\n",
       "      <td>60</td>\n",
       "      <td>64</td>\n",
       "      <td>82</td>\n",
       "      <td>206</td>\n",
       "      <td>151.333333</td>\n",
       "      <td>68.666667</td>\n",
       "    </tr>\n",
       "  </tbody>\n",
       "</table>\n",
       "</div>"
      ],
      "text/plain": [
       "           marks1  marks2  marks3  total     average  Percentage\n",
       "Hitesh         55      82      79    216  163.333333   72.000000\n",
       "Pratik         68      58      49    175  142.333333   58.333333\n",
       "Pukraj         50      71      48    169  137.000000   56.333333\n",
       "Sagar          45      55      78    178  126.000000   59.333333\n",
       "Shreyashi      60      67      67    194  149.333333   64.666667\n",
       "Taral          60      64      82    206  151.333333   68.666667"
      ]
     },
     "execution_count": 48,
     "metadata": {},
     "output_type": "execute_result"
    }
   ],
   "source": [
    "students['Percentage'] = ((students['total'] /300) * 100)\n",
    "students"
   ]
  },
  {
   "cell_type": "code",
   "execution_count": 50,
   "metadata": {},
   "outputs": [
    {
     "data": {
      "text/html": [
       "<div>\n",
       "<style scoped>\n",
       "    .dataframe tbody tr th:only-of-type {\n",
       "        vertical-align: middle;\n",
       "    }\n",
       "\n",
       "    .dataframe tbody tr th {\n",
       "        vertical-align: top;\n",
       "    }\n",
       "\n",
       "    .dataframe thead th {\n",
       "        text-align: right;\n",
       "    }\n",
       "</style>\n",
       "<table border=\"1\" class=\"dataframe\">\n",
       "  <thead>\n",
       "    <tr style=\"text-align: right;\">\n",
       "      <th></th>\n",
       "      <th>marks1</th>\n",
       "      <th>marks2</th>\n",
       "    </tr>\n",
       "  </thead>\n",
       "  <tbody>\n",
       "    <tr>\n",
       "      <th>Hitesh</th>\n",
       "      <td>55</td>\n",
       "      <td>82</td>\n",
       "    </tr>\n",
       "    <tr>\n",
       "      <th>Pratik</th>\n",
       "      <td>68</td>\n",
       "      <td>58</td>\n",
       "    </tr>\n",
       "    <tr>\n",
       "      <th>Pukraj</th>\n",
       "      <td>50</td>\n",
       "      <td>71</td>\n",
       "    </tr>\n",
       "  </tbody>\n",
       "</table>\n",
       "</div>"
      ],
      "text/plain": [
       "        marks1  marks2\n",
       "Hitesh      55      82\n",
       "Pratik      68      58\n",
       "Pukraj      50      71"
      ]
     },
     "execution_count": 50,
     "metadata": {},
     "output_type": "execute_result"
    }
   ],
   "source": [
    "students.iloc[:3,:2]"
   ]
  },
  {
   "cell_type": "code",
   "execution_count": 51,
   "metadata": {},
   "outputs": [
    {
     "data": {
      "text/html": [
       "<div>\n",
       "<style scoped>\n",
       "    .dataframe tbody tr th:only-of-type {\n",
       "        vertical-align: middle;\n",
       "    }\n",
       "\n",
       "    .dataframe tbody tr th {\n",
       "        vertical-align: top;\n",
       "    }\n",
       "\n",
       "    .dataframe thead th {\n",
       "        text-align: right;\n",
       "    }\n",
       "</style>\n",
       "<table border=\"1\" class=\"dataframe\">\n",
       "  <thead>\n",
       "    <tr style=\"text-align: right;\">\n",
       "      <th></th>\n",
       "      <th>marks1</th>\n",
       "      <th>marks2</th>\n",
       "      <th>marks3</th>\n",
       "      <th>total</th>\n",
       "    </tr>\n",
       "  </thead>\n",
       "  <tbody>\n",
       "    <tr>\n",
       "      <th>Hitesh</th>\n",
       "      <td>55</td>\n",
       "      <td>82</td>\n",
       "      <td>79</td>\n",
       "      <td>216</td>\n",
       "    </tr>\n",
       "    <tr>\n",
       "      <th>Pratik</th>\n",
       "      <td>68</td>\n",
       "      <td>58</td>\n",
       "      <td>49</td>\n",
       "      <td>175</td>\n",
       "    </tr>\n",
       "    <tr>\n",
       "      <th>Pukraj</th>\n",
       "      <td>50</td>\n",
       "      <td>71</td>\n",
       "      <td>48</td>\n",
       "      <td>169</td>\n",
       "    </tr>\n",
       "    <tr>\n",
       "      <th>Sagar</th>\n",
       "      <td>45</td>\n",
       "      <td>55</td>\n",
       "      <td>78</td>\n",
       "      <td>178</td>\n",
       "    </tr>\n",
       "  </tbody>\n",
       "</table>\n",
       "</div>"
      ],
      "text/plain": [
       "        marks1  marks2  marks3  total\n",
       "Hitesh      55      82      79    216\n",
       "Pratik      68      58      49    175\n",
       "Pukraj      50      71      48    169\n",
       "Sagar       45      55      78    178"
      ]
     },
     "execution_count": 51,
     "metadata": {},
     "output_type": "execute_result"
    }
   ],
   "source": [
    "students.loc[:'Sagar',:'total']"
   ]
  },
  {
   "cell_type": "code",
   "execution_count": 56,
   "metadata": {},
   "outputs": [
    {
     "name": "stderr",
     "output_type": "stream",
     "text": [
      "C:\\ProgramData\\Anaconda3\\lib\\site-packages\\ipykernel_launcher.py:1: DeprecationWarning: \n",
      ".ix is deprecated. Please use\n",
      ".loc for label based indexing or\n",
      ".iloc for positional indexing\n",
      "\n",
      "See the documentation here:\n",
      "http://pandas.pydata.org/pandas-docs/stable/indexing.html#ix-indexer-is-deprecated\n",
      "  \"\"\"Entry point for launching an IPython kernel.\n"
     ]
    },
    {
     "data": {
      "text/html": [
       "<div>\n",
       "<style scoped>\n",
       "    .dataframe tbody tr th:only-of-type {\n",
       "        vertical-align: middle;\n",
       "    }\n",
       "\n",
       "    .dataframe tbody tr th {\n",
       "        vertical-align: top;\n",
       "    }\n",
       "\n",
       "    .dataframe thead th {\n",
       "        text-align: right;\n",
       "    }\n",
       "</style>\n",
       "<table border=\"1\" class=\"dataframe\">\n",
       "  <thead>\n",
       "    <tr style=\"text-align: right;\">\n",
       "      <th></th>\n",
       "      <th>marks1</th>\n",
       "      <th>marks2</th>\n",
       "      <th>marks3</th>\n",
       "      <th>total</th>\n",
       "      <th>average</th>\n",
       "    </tr>\n",
       "  </thead>\n",
       "  <tbody>\n",
       "    <tr>\n",
       "      <th>Hitesh</th>\n",
       "      <td>55</td>\n",
       "      <td>82</td>\n",
       "      <td>79</td>\n",
       "      <td>216</td>\n",
       "      <td>163.333333</td>\n",
       "    </tr>\n",
       "    <tr>\n",
       "      <th>Pratik</th>\n",
       "      <td>68</td>\n",
       "      <td>58</td>\n",
       "      <td>49</td>\n",
       "      <td>175</td>\n",
       "      <td>142.333333</td>\n",
       "    </tr>\n",
       "    <tr>\n",
       "      <th>Pukraj</th>\n",
       "      <td>50</td>\n",
       "      <td>71</td>\n",
       "      <td>48</td>\n",
       "      <td>169</td>\n",
       "      <td>137.000000</td>\n",
       "    </tr>\n",
       "    <tr>\n",
       "      <th>Sagar</th>\n",
       "      <td>45</td>\n",
       "      <td>55</td>\n",
       "      <td>78</td>\n",
       "      <td>178</td>\n",
       "      <td>126.000000</td>\n",
       "    </tr>\n",
       "  </tbody>\n",
       "</table>\n",
       "</div>"
      ],
      "text/plain": [
       "        marks1  marks2  marks3  total     average\n",
       "Hitesh      55      82      79    216  163.333333\n",
       "Pratik      68      58      49    175  142.333333\n",
       "Pukraj      50      71      48    169  137.000000\n",
       "Sagar       45      55      78    178  126.000000"
      ]
     },
     "execution_count": 56,
     "metadata": {},
     "output_type": "execute_result"
    }
   ],
   "source": [
    "students.ix[:4,:'average']"
   ]
  },
  {
   "cell_type": "code",
   "execution_count": 7,
   "metadata": {},
   "outputs": [
    {
     "data": {
      "text/html": [
       "<div>\n",
       "<style scoped>\n",
       "    .dataframe tbody tr th:only-of-type {\n",
       "        vertical-align: middle;\n",
       "    }\n",
       "\n",
       "    .dataframe tbody tr th {\n",
       "        vertical-align: top;\n",
       "    }\n",
       "\n",
       "    .dataframe thead th {\n",
       "        text-align: right;\n",
       "    }\n",
       "</style>\n",
       "<table border=\"1\" class=\"dataframe\">\n",
       "  <thead>\n",
       "    <tr style=\"text-align: right;\">\n",
       "      <th></th>\n",
       "      <th>area</th>\n",
       "      <th>population</th>\n",
       "    </tr>\n",
       "  </thead>\n",
       "  <tbody>\n",
       "    <tr>\n",
       "      <th>UYGU</th>\n",
       "      <td>33823</td>\n",
       "      <td>58248</td>\n",
       "    </tr>\n",
       "    <tr>\n",
       "      <th>khukihb</th>\n",
       "      <td>11334</td>\n",
       "      <td>41965</td>\n",
       "    </tr>\n",
       "    <tr>\n",
       "      <th>uygug</th>\n",
       "      <td>79068</td>\n",
       "      <td>85122</td>\n",
       "    </tr>\n",
       "    <tr>\n",
       "      <th>ufut</th>\n",
       "      <td>50255</td>\n",
       "      <td>85626</td>\n",
       "    </tr>\n",
       "    <tr>\n",
       "      <th>iyg</th>\n",
       "      <td>91574</td>\n",
       "      <td>97117</td>\n",
       "    </tr>\n",
       "  </tbody>\n",
       "</table>\n",
       "</div>"
      ],
      "text/plain": [
       "          area  population\n",
       "UYGU     33823       58248\n",
       "khukihb  11334       41965\n",
       "uygug    79068       85122\n",
       "ufut     50255       85626\n",
       "iyg      91574       97117"
      ]
     },
     "execution_count": 7,
     "metadata": {},
     "output_type": "execute_result"
    }
   ],
   "source": [
    "import numpy as np\n",
    "value1 = np.random.randint(10000,100000,(5,2))\n",
    "\n",
    "pop = pd.DataFrame(value1, index = ['UYGU','khukihb','uygug','ufut','iyg'], columns=['area','population'])\n",
    "pop"
   ]
  },
  {
   "cell_type": "code",
   "execution_count": null,
   "metadata": {},
   "outputs": [],
   "source": []
  },
  {
   "cell_type": "raw",
   "metadata": {},
   "source": []
  }
 ],
 "metadata": {
  "kernelspec": {
   "display_name": "Python 3",
   "language": "python",
   "name": "python3"
  },
  "language_info": {
   "codemirror_mode": {
    "name": "ipython",
    "version": 3
   },
   "file_extension": ".py",
   "mimetype": "text/x-python",
   "name": "python",
   "nbconvert_exporter": "python",
   "pygments_lexer": "ipython3",
   "version": "3.7.3"
  }
 },
 "nbformat": 4,
 "nbformat_minor": 2
}

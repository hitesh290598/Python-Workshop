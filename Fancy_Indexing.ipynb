{
 "cells": [
  {
   "cell_type": "markdown",
   "metadata": {},
   "source": [
    "### fancy-indexing\n"
   ]
  },
  {
   "cell_type": "code",
   "execution_count": 18,
   "metadata": {},
   "outputs": [
    {
     "name": "stdout",
     "output_type": "stream",
     "text": [
      "[[70 91  7]\n",
      " [37 56 50]\n",
      " [65 12 71]]\n"
     ]
    }
   ],
   "source": [
    "import numpy as np\n",
    "rand = np.random.RandomState(40)\n",
    "x = rand.randint(100, size =(3,3))\n",
    "print(x)"
   ]
  },
  {
   "cell_type": "code",
   "execution_count": 9,
   "metadata": {},
   "outputs": [
    {
     "data": {
      "text/plain": [
       "array([ 7, 65, 56])"
      ]
     },
     "execution_count": 9,
     "metadata": {},
     "output_type": "execute_result"
    }
   ],
   "source": [
    "ind = ([0,2, 1],\n",
    "    [2,0,1])\n",
    "x[ind]"
   ]
  },
  {
   "cell_type": "code",
   "execution_count": null,
   "metadata": {},
   "outputs": [],
   "source": []
  },
  {
   "cell_type": "code",
   "execution_count": 11,
   "metadata": {},
   "outputs": [
    {
     "data": {
      "text/plain": [
       "array([[ 0,  1,  2,  3],\n",
       "       [ 4,  5,  6,  7],\n",
       "       [ 8,  9, 10, 11]])"
      ]
     },
     "execution_count": 11,
     "metadata": {},
     "output_type": "execute_result"
    }
   ],
   "source": [
    "x = np.arange(12).reshape((3,4))\n",
    "x"
   ]
  },
  {
   "cell_type": "code",
   "execution_count": 12,
   "metadata": {},
   "outputs": [
    {
     "data": {
      "text/plain": [
       "array([ 1,  7, 10])"
      ]
     },
     "execution_count": 12,
     "metadata": {},
     "output_type": "execute_result"
    }
   ],
   "source": [
    "row = np.array([0, 1, 2])\n",
    "col = np.array([1, 3, 2])\n",
    "x[row, col]"
   ]
  },
  {
   "cell_type": "code",
   "execution_count": 14,
   "metadata": {},
   "outputs": [
    {
     "data": {
      "text/plain": [
       "array([[ 1,  3,  2],\n",
       "       [ 5,  7,  6],\n",
       "       [ 9, 11, 10]])"
      ]
     },
     "execution_count": 14,
     "metadata": {},
     "output_type": "execute_result"
    }
   ],
   "source": [
    "x[row [:, np.newaxis], col]"
   ]
  },
  {
   "cell_type": "code",
   "execution_count": 17,
   "metadata": {},
   "outputs": [
    {
     "data": {
      "text/plain": [
       "array([[ 1,  5,  9],\n",
       "       [ 3,  7, 11],\n",
       "       [ 2,  6, 10]])"
      ]
     },
     "execution_count": 17,
     "metadata": {},
     "output_type": "execute_result"
    }
   ],
   "source": [
    "x[row, col [:, np.newaxis]]"
   ]
  },
  {
   "cell_type": "code",
   "execution_count": 33,
   "metadata": {},
   "outputs": [
    {
     "data": {
      "text/plain": [
       "array([[ 1.95978253e+00,  3.28899118e+00],\n",
       "       [ 1.46967515e+00,  3.50763421e+00],\n",
       "       [ 1.11676741e+00,  1.64844917e+00],\n",
       "       [-1.33813752e+00, -2.02826326e+00],\n",
       "       [-8.30632405e-02, -1.09893574e+00],\n",
       "       [-6.16911677e-01, -1.56793477e-01],\n",
       "       [-3.64518479e-02,  1.02377124e-02],\n",
       "       [-6.41039501e-01, -3.23682515e+00],\n",
       "       [ 7.94091572e-01,  1.17509441e+00],\n",
       "       [-4.21399693e-01, -5.63201229e-01],\n",
       "       [ 1.93735514e+00,  4.13974180e+00],\n",
       "       [ 9.36861700e-02,  1.98158347e+00],\n",
       "       [ 1.78271787e+00,  3.65360952e+00],\n",
       "       [ 1.97488656e+00,  4.25565407e+00],\n",
       "       [ 1.47989859e-01,  7.49458377e-01],\n",
       "       [-5.87888929e-01,  4.42429433e-03],\n",
       "       [ 8.48210820e-01,  3.58858729e+00],\n",
       "       [-7.47735441e-01, -1.68883780e+00],\n",
       "       [ 8.37292596e-01,  3.06985657e+00],\n",
       "       [-6.76295751e-01, -1.68128353e+00],\n",
       "       [-1.16002511e-01, -4.90113725e-01],\n",
       "       [ 1.12662387e+00,  2.50177380e+00],\n",
       "       [-1.13120467e-01, -3.75071655e-01],\n",
       "       [ 8.54284577e-01,  2.27901000e+00],\n",
       "       [-6.89976884e-01, -1.58099735e+00],\n",
       "       [-1.19632123e+00, -4.99730738e+00],\n",
       "       [-9.57905864e-01, -8.18359117e-01],\n",
       "       [-1.81236174e+00, -3.50281734e+00],\n",
       "       [-7.14943511e-01, -1.50462573e+00],\n",
       "       [ 6.55993227e-02,  5.34696043e-01],\n",
       "       [ 7.25115738e-01,  1.71493007e+00],\n",
       "       [-8.26397265e-01, -2.51707587e+00],\n",
       "       [-1.35069345e+00, -2.35772683e+00],\n",
       "       [ 6.03720744e-01,  8.49726181e-02],\n",
       "       [-4.05169105e-01, -1.08547284e+00],\n",
       "       [ 1.14826689e-01,  7.59286367e-01],\n",
       "       [ 2.65032486e-01,  1.50806206e+00],\n",
       "       [-4.13322612e-02,  1.09997497e+00],\n",
       "       [-1.24738575e+00, -1.62145502e+00],\n",
       "       [ 1.45222474e+00,  3.26307139e+00],\n",
       "       [ 8.55833968e-01,  1.89591335e-01],\n",
       "       [-1.47902170e+00, -2.75053702e+00],\n",
       "       [-2.07203066e+00, -4.43855455e+00],\n",
       "       [-1.48740518e+00, -2.02992392e+00],\n",
       "       [-5.72287025e-01, -2.30353919e+00],\n",
       "       [-2.43581810e+00, -3.28629119e+00],\n",
       "       [-1.00117382e-01, -1.72107891e+00],\n",
       "       [ 1.77732806e+00,  3.09346621e+00],\n",
       "       [-1.21577127e+00, -1.58147637e+00],\n",
       "       [-4.40908172e-01, -1.16301771e+00],\n",
       "       [-6.16390003e-01, -2.21348176e+00],\n",
       "       [-1.34605375e+00, -3.24229585e+00],\n",
       "       [-4.55332223e-01, -2.06421262e+00],\n",
       "       [-1.91751882e-01, -1.58198135e+00],\n",
       "       [-1.21243094e+00, -8.08425438e-01],\n",
       "       [-1.60283649e+00, -5.58385799e+00],\n",
       "       [ 5.30309383e-02,  8.44006646e-01],\n",
       "       [ 3.61217135e-01, -5.85954961e-01],\n",
       "       [ 4.18666762e-01,  3.39455648e-01],\n",
       "       [-1.62193846e+00, -2.77673086e+00],\n",
       "       [ 7.50552870e-01,  1.44589492e+00],\n",
       "       [-1.92247021e+00, -4.13236291e+00],\n",
       "       [-6.65480586e-02, -5.50201228e-01],\n",
       "       [-1.14334338e+00, -2.29399323e+00],\n",
       "       [-1.45063390e-01,  1.01630553e+00],\n",
       "       [-2.63808101e-01, -3.61298175e-01],\n",
       "       [-6.68228553e-01, -2.28068487e+00],\n",
       "       [ 8.86277422e-02,  4.70736009e-01],\n",
       "       [-3.91452882e-01, -1.44293211e+00],\n",
       "       [ 5.47352044e-01,  7.00910840e-01],\n",
       "       [-6.96532345e-01, -1.35082775e+00],\n",
       "       [ 3.34237969e-01,  2.76400010e+00],\n",
       "       [-1.62301489e+00, -4.79266822e+00],\n",
       "       [-8.41759409e-01, -2.23011906e+00],\n",
       "       [-1.05748687e-01, -5.90727994e-01],\n",
       "       [ 8.00813950e-01,  2.05289624e+00],\n",
       "       [-2.48788264e+00, -4.75144276e+00],\n",
       "       [ 1.59418252e+00,  4.67431255e+00],\n",
       "       [-6.19568779e-01, -1.35536490e+00],\n",
       "       [-1.94273873e+00, -3.76647464e+00],\n",
       "       [-1.06561557e+00, -2.81046420e+00],\n",
       "       [ 8.66368971e-01,  1.52491735e+00],\n",
       "       [ 3.06041962e-04,  2.28751301e-02],\n",
       "       [-2.97621329e-01,  2.76151578e-01],\n",
       "       [ 4.28357976e-01, -8.24253632e-02],\n",
       "       [-7.04578187e-02, -5.00369397e-01],\n",
       "       [ 2.91118427e-01,  1.01744458e+00],\n",
       "       [ 2.67362405e-01,  1.64844652e+00],\n",
       "       [-1.45099806e+00, -3.48969352e+00],\n",
       "       [ 6.54717655e-02,  1.27614455e-01],\n",
       "       [ 6.49573212e-01,  1.48979409e+00],\n",
       "       [ 1.48153220e+00,  1.60391796e+00],\n",
       "       [-1.24830349e+00, -3.40577202e+00],\n",
       "       [-1.19617576e+00, -3.51643456e+00],\n",
       "       [-6.35666235e-01, -1.26981078e+00],\n",
       "       [-1.22826492e+00, -2.32307106e+00],\n",
       "       [ 4.73741934e-01,  1.45351785e+00],\n",
       "       [-6.36928417e-01, -1.31872727e+00],\n",
       "       [ 2.09726921e-01, -2.67314396e-01],\n",
       "       [ 4.26989617e-02,  1.23621981e+00]])"
      ]
     },
     "execution_count": 33,
     "metadata": {},
     "output_type": "execute_result"
    }
   ],
   "source": [
    "mean = [0, 0]\n",
    "cov = [[1, 2],\n",
    "        [2, 5]]\n",
    "x = rand.multivariate_normal(mean,cov, 100)\n",
    "x"
   ]
  },
  {
   "cell_type": "code",
   "execution_count": 34,
   "metadata": {},
   "outputs": [
    {
     "data": {
      "text/plain": [
       "<matplotlib.collections.PathCollection at 0x85f57ce668>"
      ]
     },
     "execution_count": 34,
     "metadata": {},
     "output_type": "execute_result"
    },
    {
     "data": {
      "image/png": "[encoded data removed]",
      "text/plain": [
       "<Figure size 432x288 with 1 Axes>"
      ]
     },
     "metadata": {
      "needs_background": "light"
     },
     "output_type": "display_data"
    }
   ],
   "source": [
    "import matplotlib.pyplot as plt\n",
    "\n",
    "plt.scatter(x[:, 0], x[:, 1])"
   ]
  },
  {
   "cell_type": "code",
   "execution_count": 51,
   "metadata": {},
   "outputs": [
    {
     "name": "stdout",
     "output_type": "stream",
     "text": [
      "[[ 8  5  0  9  1]\n",
      " [ 4  8  0 10 14]\n",
      " [14 14 10  1 13]]\n",
      "[[ 0  1  4  5  8  9 10 13 14]\n",
      " [ 2  2  1  1  2  1  2  1  3]]\n"
     ]
    }
   ],
   "source": [
    "from collections import Counter\n",
    "a = np.random.randint(0,15, (3,5))\n",
    "print(a)\n",
    "\n",
    "unique_elements, count_elements = np.unique(a, return_counts=True)\n",
    "print(np.asarray((unique_elements, count_elements)))"
   ]
  },
  {
   "cell_type": "code",
   "execution_count": 52,
   "metadata": {},
   "outputs": [
    {
     "data": {
      "text/plain": [
       "array([89,  2, 31, 36, 27, 82, 90, 69, 18, 67, 62, 28, 34, 59,  6, 41, 30,\n",
       "       13, 24, 14])"
      ]
     },
     "execution_count": 52,
     "metadata": {},
     "output_type": "execute_result"
    }
   ],
   "source": [
    "indices = np.random.choice(x.shape[0], 20, replace=False)\n",
    "indices"
   ]
  },
  {
   "cell_type": "code",
   "execution_count": 53,
   "metadata": {},
   "outputs": [
    {
     "data": {
      "text/plain": [
       "(20, 2)"
      ]
     },
     "execution_count": 53,
     "metadata": {},
     "output_type": "execute_result"
    }
   ],
   "source": [
    "selection = x[indices]\n",
    "selection.shape"
   ]
  },
  {
   "cell_type": "code",
   "execution_count": 58,
   "metadata": {},
   "outputs": [
    {
     "data": {
      "text/plain": [
       "<matplotlib.collections.PathCollection at 0x85f79db470>"
      ]
     },
     "execution_count": 58,
     "metadata": {},
     "output_type": "execute_result"
    },
    {
     "data": {
      "image/png": "[encoded data removed]",
      "text/plain": [
       "<Figure size 432x288 with 1 Axes>"
      ]
     },
     "metadata": {
      "needs_background": "light"
     },
     "output_type": "display_data"
    }
   ],
   "source": [
    "plt.scatter(x[:, 0], x[:, 1], alpha=0.3)\n",
    "plt.scatter(selection[:, 0], selection[:, 1], facecolor='red', s=200)"
   ]
  },
  {
   "cell_type": "code",
   "execution_count": null,
   "metadata": {},
   "outputs": [],
   "source": []
  }
 ],
 "metadata": {
  "kernelspec": {
   "display_name": "Python 3",
   "language": "python",
   "name": "python3"
  },
  "language_info": {
   "codemirror_mode": {
    "name": "ipython",
    "version": 3
   },
   "file_extension": ".py",
   "mimetype": "text/x-python",
   "name": "python",
   "nbconvert_exporter": "python",
   "pygments_lexer": "ipython3",
   "version": "3.7.3"
  }
 },
 "nbformat": 4,
 "nbformat_minor": 2
}

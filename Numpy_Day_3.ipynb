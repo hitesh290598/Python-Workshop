{
 "cells": [
  {
   "cell_type": "code",
   "execution_count": 35,
   "metadata": {},
   "outputs": [
    {
     "name": "stdout",
     "output_type": "stream",
     "text": [
      "[[43 20 42 24 42 12]\n",
      " [42 26 33 15 22 31]\n",
      " [41 19  9 12 29 27]\n",
      " [ 2 20 49 34 13 27]\n",
      " [37 24 47 17  4 43]\n",
      " [ 1 39 18 16 49 34]]\n"
     ]
    }
   ],
   "source": [
    "import numpy as np\n",
    "\n",
    "x = np.random.randint(1,50, (6,6))\n",
    "print(x)"
   ]
  },
  {
   "cell_type": "code",
   "execution_count": 23,
   "metadata": {},
   "outputs": [
    {
     "data": {
      "text/plain": [
       "array([[ 2,  2,  4,  3,  3],\n",
       "       [ 9,  9,  6,  5,  5],\n",
       "       [12, 12,  8, 12, 11],\n",
       "       [16, 18, 12, 15, 13],\n",
       "       [18, 19, 16, 19, 18]])"
      ]
     },
     "execution_count": 23,
     "metadata": {},
     "output_type": "execute_result"
    }
   ],
   "source": [
    "np.sort(x, axis=0)"
   ]
  },
  {
   "cell_type": "code",
   "execution_count": 24,
   "metadata": {},
   "outputs": [
    {
     "data": {
      "text/plain": [
       "array([[ 5,  8, 11, 12, 19],\n",
       "       [ 5,  6,  9, 18, 19],\n",
       "       [ 2,  2, 12, 13, 15],\n",
       "       [ 3,  4, 12, 16, 18],\n",
       "       [ 3,  9, 12, 16, 18]])"
      ]
     },
     "execution_count": 24,
     "metadata": {},
     "output_type": "execute_result"
    }
   ],
   "source": [
    "np.sort(x, axis=1)"
   ]
  },
  {
   "cell_type": "code",
   "execution_count": 25,
   "metadata": {},
   "outputs": [
    {
     "data": {
      "text/plain": [
       "array([1, 4, 0, 7, 3, 2, 5, 6], dtype=int64)"
      ]
     },
     "execution_count": 25,
     "metadata": {},
     "output_type": "execute_result"
    }
   ],
   "source": [
    "a = np.array([5,1,7,6,2,8,9,5])\n",
    "np.argsort(a)"
   ]
  },
  {
   "cell_type": "code",
   "execution_count": 15,
   "metadata": {},
   "outputs": [
    {
     "data": {
      "text/plain": [
       "array([1, 2, 5, 5, 6, 7, 8, 9])"
      ]
     },
     "execution_count": 15,
     "metadata": {},
     "output_type": "execute_result"
    }
   ],
   "source": [
    "np.sort(a)"
   ]
  },
  {
   "cell_type": "code",
   "execution_count": 14,
   "metadata": {},
   "outputs": [
    {
     "data": {
      "text/plain": [
       "array([1, 5, 2, 5, 6, 7, 9, 8])"
      ]
     },
     "execution_count": 14,
     "metadata": {},
     "output_type": "execute_result"
    }
   ],
   "source": [
    "np.partition(a, 4)"
   ]
  },
  {
   "cell_type": "code",
   "execution_count": 38,
   "metadata": {},
   "outputs": [
    {
     "name": "stdout",
     "output_type": "stream",
     "text": [
      "[[43 20 42 24 42 12]\n",
      " [42 26 33 15 22 31]\n",
      " [41 19  9 12 29 27]\n",
      " [ 2 20 49 34 13 27]\n",
      " [37 24 47 17  4 43]\n",
      " [ 1 39 18 16 49 34]]\n",
      "\n",
      "\n",
      " [[ 2 20  9 15  4 27]\n",
      " [ 1 19 18 12 13 12]\n",
      " [37 20 33 16 22 27]\n",
      " [41 24 42 17 29 31]\n",
      " [42 26 47 24 42 34]\n",
      " [43 39 49 34 49 43]]\n"
     ]
    }
   ],
   "source": [
    "print(x)\n",
    "\n",
    "print(\"\\n\\n\",np.partition(x, 3, axis=0))"
   ]
  },
  {
   "cell_type": "code",
   "execution_count": null,
   "metadata": {},
   "outputs": [],
   "source": [
    "\n"
   ]
  }
 ],
 "metadata": {
  "kernelspec": {
   "display_name": "Python 3",
   "language": "python",
   "name": "python3"
  },
  "language_info": {
   "codemirror_mode": {
    "name": "ipython",
    "version": 3
   },
   "file_extension": ".py",
   "mimetype": "text/x-python",
   "name": "python",
   "nbconvert_exporter": "python",
   "pygments_lexer": "ipython3",
   "version": "3.7.3"
  }
 },
 "nbformat": 4,
 "nbformat_minor": 2
}

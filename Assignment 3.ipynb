{
 "cells": [
  {
   "cell_type": "markdown",
   "metadata": {},
   "source": [
    "#### 1. EMail Generator\n",
    "* Write a function to take First Name, Last Name and Date of Birth as input from the user and generate an EMail ID for them.\n",
    "* The function should return the email id as <br>First two letters of First Name,<br>followed by First letter of Last Name,<br>followed by DOB without '/' followed by '@xyz.com'\n",
    "* For Eg: **First Name:** Alice , **Last Name:** Garner , **DOB:** 07/11/1995\n",
    "* Eg Output: alg07111995@xyz.com"
   ]
  },
  {
   "cell_type": "code",
   "execution_count": 3,
   "metadata": {},
   "outputs": [
    {
     "name": "stdout",
     "output_type": "stream",
     "text": [
      "Enter Your First Name : Hitesh\n",
      "Enter Your Last Name : Kale\n",
      "Enter DOB DD/MM/YYYY : 08/01/1996\n",
      "hik08011996@xyz.com\n"
     ]
    }
   ],
   "source": [
    "email = \"\"\n",
    "\n",
    "def get():\n",
    "    a = input('Enter Your First Name : ')\n",
    "    b = input('Enter Your Last Name : ')\n",
    "    c = input('Enter DOB DD/MM/YYYY : ')\n",
    "    fn = a[0].lower()+a[1].lower()\n",
    "    ln = b[0].lower()\n",
    "    dob = c.split('/')\n",
    "    email = fn,ln,dob[0],dob[1],dob[2],\"@xyz.com\"\n",
    "    e = \"\"\n",
    "    for i in range(len(email)):\n",
    "        e += email[i]\n",
    "    print(e)\n",
    "get()\n"
   ]
  },
  {
   "cell_type": "markdown",
   "metadata": {},
   "source": [
    "#### 2. Brightness Adjustments\n",
    "\n",
    "* Intuition: Let us say you have a grayscale image matrix of dimension 3x3<br>[150, 23, 21]<br>[168, 145, 23]<br>[170, 163, 150]<br>we need to reduce the brightness of this image by a factor of 10 i.e. each element of the image matrix should be subtracted by 10. Thus giving us the output image matrix as <br>[140, 13, 11]<br>[158, 135, 13]<br>[160, 153, 140]\n",
    "* Create a 3x3 matrix having random values between the range of 0 to 255.\n",
    "* Create a 3x3 matrix having all elements as 10.\n",
    "* Reduce (Subtraction) the brightness matrix from the image matrix."
   ]
  },
  {
   "cell_type": "code",
   "execution_count": 4,
   "metadata": {},
   "outputs": [
    {
     "name": "stdout",
     "output_type": "stream",
     "text": [
      "Random value matrix between 0 to 255 : \n",
      "[[ 28  31 197]\n",
      " [227  26 159]\n",
      " [ 56  58 247]]\n",
      "Matrix with all element as 10 : \n",
      "[[10 10 10]\n",
      " [10 10 10]\n",
      " [10 10 10]]\n",
      "Ans : \n",
      "[[ 18  21 187]\n",
      " [217  16 149]\n",
      " [ 46  48 237]]\n"
     ]
    }
   ],
   "source": [
    "import numpy as np\n",
    "\n",
    "print(\"Random value matrix between 0 to 255 : \")\n",
    "a = np.random.randint(0, 255, (3,3))\n",
    "print(a)\n",
    "\n",
    "print(\"Matrix with all element as 10 : \")\n",
    "b = np.full((3, 3), 10)\n",
    "print(b)\n",
    "\n",
    "# c = np.subtract(a,b)\n",
    "c = a - b\n",
    "print(\"Ans : \")\n",
    "print(c)"
   ]
  },
  {
   "cell_type": "markdown",
   "metadata": {},
   "source": [
    "#### 3. Central Tendency Test\n",
    "\n",
    "* Intuition: Our goal here is to check the skewness of our distribution.\n",
    "* Skewness\n",
    "    * Positively Skewed : Mean > Median\n",
    "    * Negetively Skewed : Mean < Median\n",
    "    * Normal Curve : Mean = Median\n",
    "* Write a function that takes an array of 9 numbers as input and returns the skewness of its distribution.\n",
    "* Try your function for these inputs\n",
    "    * Input: [1,2,3,4,5,6,7,8,9] , Expected Output: \"Normal Curve\"\n",
    "    * Input: [1,2,3,4,5,6,9,9,10] , Expected Output: \"Positively Skewed\"\n",
    "    * Input: [1,1,1,4,5,6,7,8,9] , Expected Output: \"Negatively Skewed\"\n",
    "* **Note:** For this test consider the distribution to be sorted in an ascending order. Write code in such a way that even if unsorted array is passed as an input it handles it correctly."
   ]
  },
  {
   "cell_type": "code",
   "execution_count": 12,
   "metadata": {},
   "outputs": [
    {
     "name": "stdout",
     "output_type": "stream",
     "text": [
      "Enter no : 1\n",
      "Enter no : 2\n",
      "Enter no : 3\n",
      "Enter no : 4\n",
      "Enter no : 5\n",
      "Enter no : 6\n",
      "Enter no : 9\n",
      "Enter no : 9\n",
      "Enter no : 10\n",
      "[1, 2, 3, 4, 5, 6, 9, 9, 10]\n",
      "Positively Skewed\n"
     ]
    }
   ],
   "source": [
    "l1 = []\n",
    "for i in range(9):\n",
    "    x = int(input(\"Enter no : \"))\n",
    "    l1.append(x)\n",
    "l1.sort()\n",
    "print(l1)\n",
    "m1 = 0\n",
    "for i in range(len(l1)):\n",
    "    m1 = m1 + l1[i]\n",
    "mean = m1/len(l1)\n",
    "median = l1[4]\n",
    "\n",
    "if mean > median:\n",
    "    print(\"Positively Skewed\")\n",
    "elif mean < median:\n",
    "    print(\"Negetively Skewed\")\n",
    "else:\n",
    "    print(\"Normal Curve\")\n",
    "    "
   ]
  },
  {
   "cell_type": "markdown",
   "metadata": {},
   "source": [
    "#### 4. Calculating Distances\n",
    "\n",
    "* Below are two equations for calculating distances between 2 points\n",
    "    * Euclidean Distance : $\\sqrt{(x2 - x1)^2 + (y2-y1)^2}$\n",
    "    * Manhattan Distance : $ |x2-x1| + |y2-y1| $\n",
    "* Write a function that takes the x and y coordiantes for two points as inputs and returns the Euclidean and Manhattan distance between the two."
   ]
  },
  {
   "cell_type": "code",
   "execution_count": 5,
   "metadata": {},
   "outputs": [
    {
     "name": "stdout",
     "output_type": "stream",
     "text": [
      "Enter x co-ordinate : \n",
      "Enter nos : 3\n",
      "Enter nos : 4\n",
      "Enter y co-ordinate : \n",
      "Enter nos : 4\n",
      "Enter nos : 3\n",
      "Euclidean Distance 1.4142135623730951\n",
      "Manhattan Distance 2\n"
     ]
    }
   ],
   "source": [
    "import math\n",
    "\n",
    "def get():\n",
    "    print(\"Enter x co-ordinate : \")\n",
    "    x = []\n",
    "    for i in range(2):\n",
    "        a = int(input('Enter nos : '))\n",
    "        x.append(a)\n",
    "    print(\"Enter y co-ordinate : \")\n",
    "    y = []\n",
    "    for i in range(2):\n",
    "        a = int(input('Enter nos : '))\n",
    "        y.append(a)\n",
    "    ED = math.sqrt(math.pow(x[1]-x[0], 2) + math.pow(y[1]- y[0], 2) * 1.0)\n",
    "    MD = abs(x[1] - x[0]) + abs(y[1] - y[0])\n",
    "    return ED,MD\n",
    "l1 = get()\n",
    "print(\"Euclidean Distance\",l1[0])\n",
    "print(\"Manhattan Distance\",l1[1])\n"
   ]
  },
  {
   "cell_type": "markdown",
   "metadata": {},
   "source": [
    "#### 5. Softmax Function\n",
    "\n",
    "* The Softmax Function : $ \\frac{e^x}{\\sum{e^x}} $\n",
    "* Create a function that takes a array of numbers as input and returns the probabilities of each element of that array.\n",
    "* Eg: \n",
    "    * Input : [1,2,3]\n",
    "    * Denominator : e^1 + e^2 + e^3 = 2.71 + 7.38 + 20.08 = 30.16\n",
    "    * Softmax for each element:\n",
    "        * e^1/30.16 = 0.089\n",
    "        * e^2/30.16 = 0.244\n",
    "        * e^3/30.16 = 0.665"
   ]
  },
  {
   "cell_type": "code",
   "execution_count": 13,
   "metadata": {},
   "outputs": [
    {
     "name": "stdout",
     "output_type": "stream",
     "text": [
      "Enter no : 1\n",
      "Enter no : 2\n",
      "Enter no : 3\n",
      "Probability of each element is [0.09003057 0.24472847 0.66524096]\n",
      "1.0\n"
     ]
    }
   ],
   "source": [
    "import numpy as np\n",
    "\n",
    "def softmaxF(l1):\n",
    "    a = np.exp(l1)\n",
    "    b = np.sum(a)\n",
    "    c = np.divide(a,b)\n",
    "    return c\n",
    "    \n",
    "#     print(a)\n",
    "#     print(b)\n",
    "#     print(np.sum(a))\n",
    "\n",
    "l1 = []\n",
    "for i in range(3):\n",
    "    x = int(input('Enter no : '))\n",
    "    l1.append(x)\n",
    "print(\"Probability of each element is\", softmaxF(l1))\n",
    "print(np.sum(softmaxF(l1)))"
   ]
  },
  {
   "cell_type": "code",
   "execution_count": null,
   "metadata": {},
   "outputs": [],
   "source": []
  }
 ],
 "metadata": {
  "kernelspec": {
   "display_name": "Python 3",
   "language": "python",
   "name": "python3"
  },
  "language_info": {
   "codemirror_mode": {
    "name": "ipython",
    "version": 3
   },
   "file_extension": ".py",
   "mimetype": "text/x-python",
   "name": "python",
   "nbconvert_exporter": "python",
   "pygments_lexer": "ipython3",
   "version": "3.7.3"
  }
 },
 "nbformat": 4,
 "nbformat_minor": 2
}

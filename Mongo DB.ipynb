{
 "cells": [
  {
   "cell_type": "code",
   "execution_count": 1,
   "metadata": {},
   "outputs": [],
   "source": [
    "import pymongo\n",
    "from pymongo import MongoClient"
   ]
  },
  {
   "cell_type": "code",
   "execution_count": 2,
   "metadata": {},
   "outputs": [],
   "source": [
    "client = MongoClient()"
   ]
  },
  {
   "cell_type": "code",
   "execution_count": 3,
   "metadata": {},
   "outputs": [],
   "source": [
    "client = MongoClient('localhost', 27017)"
   ]
  },
  {
   "cell_type": "code",
   "execution_count": 4,
   "metadata": {},
   "outputs": [],
   "source": [
    "db = client.indira"
   ]
  },
  {
   "cell_type": "code",
   "execution_count": 5,
   "metadata": {},
   "outputs": [],
   "source": [
    "students = db.students"
   ]
  },
  {
   "cell_type": "code",
   "execution_count": 7,
   "metadata": {},
   "outputs": [
    {
     "data": {
      "text/plain": [
       "<pymongo.results.InsertOneResult at 0x224b7de4fc8>"
      ]
     },
     "execution_count": 7,
     "metadata": {},
     "output_type": "execute_result"
    }
   ],
   "source": [
    "students.insert_one(\n",
    "{\"_id\":101, \"name\":\"ALice\", \"age\":21, \"course\":\"MScCA\"}\n",
    ")"
   ]
  },
  {
   "cell_type": "code",
   "execution_count": 8,
   "metadata": {},
   "outputs": [
    {
     "data": {
      "text/plain": [
       "<pymongo.results.InsertManyResult at 0x224b89f1848>"
      ]
     },
     "execution_count": 8,
     "metadata": {},
     "output_type": "execute_result"
    }
   ],
   "source": [
    "students.insert_many(\n",
    "[\n",
    "    {\"_id\":102, \"name\":\"Bob\", \"age\":22, \"course\":\"MScCA\"},\n",
    "    {\"_id\":103, \"name\":\"Charles\", \"age\":20, \"course\":\"MScCA\"},\n",
    "    {\"_id\":104, \"name\":\"David\", \"age\":20, \"course\":\"MScCA\"}\n",
    "]\n",
    ")"
   ]
  },
  {
   "cell_type": "code",
   "execution_count": 16,
   "metadata": {},
   "outputs": [
    {
     "name": "stderr",
     "output_type": "stream",
     "text": [
      "C:\\ProgramData\\Anaconda3\\lib\\site-packages\\ipykernel_launcher.py:4: DeprecationWarning: insert is deprecated. Use insert_one or insert_many instead.\n",
      "  after removing the cwd from sys.path.\n"
     ]
    },
    {
     "data": {
      "text/plain": [
       "[105, 106]"
      ]
     },
     "execution_count": 16,
     "metadata": {},
     "output_type": "execute_result"
    }
   ],
   "source": [
    "students.insert(\n",
    "[\n",
    "    {\"_id\":105, \"name\":\"Eugene\", \"age\":24, \"course\":\"MScBD\"},\n",
    "    {\"_id\":106, \"name\":\"Ferris\", \"age\":25, \"course\":\"MScBD\"}\n",
    "]\n",
    ")"
   ]
  },
  {
   "cell_type": "code",
   "execution_count": 17,
   "metadata": {},
   "outputs": [
    {
     "data": {
      "text/plain": [
       "{'_id': 103, 'name': 'Charles', 'age': 20, 'course': 'MScCA'}"
      ]
     },
     "execution_count": 17,
     "metadata": {},
     "output_type": "execute_result"
    }
   ],
   "source": [
    "students.find_one({\"_id\":103})"
   ]
  },
  {
   "cell_type": "code",
   "execution_count": 18,
   "metadata": {},
   "outputs": [
    {
     "data": {
      "text/plain": [
       "<pymongo.cursor.Cursor at 0x224b8a4b348>"
      ]
     },
     "execution_count": 18,
     "metadata": {},
     "output_type": "execute_result"
    }
   ],
   "source": [
    "students.find({\"age\":20})"
   ]
  },
  {
   "cell_type": "code",
   "execution_count": 19,
   "metadata": {},
   "outputs": [
    {
     "name": "stdout",
     "output_type": "stream",
     "text": [
      "{'_id': 103, 'name': 'Charles', 'age': 20, 'course': 'MScCA'}\n",
      "{'_id': 104, 'name': 'David', 'age': 20, 'course': 'MScCA'}\n"
     ]
    }
   ],
   "source": [
    "for doc in students.find({\"age\":20}):\n",
    "    print(doc)"
   ]
  },
  {
   "cell_type": "code",
   "execution_count": 20,
   "metadata": {},
   "outputs": [
    {
     "name": "stdout",
     "output_type": "stream",
     "text": [
      "{'_id': 101, 'name': 'ALice', 'age': 21, 'course': 'MScCA'}\n",
      "{'_id': 102, 'name': 'Bob', 'age': 22, 'course': 'MScCA'}\n",
      "{'_id': 103, 'name': 'Charles', 'age': 20, 'course': 'MScCA'}\n",
      "{'_id': 104, 'name': 'David', 'age': 20, 'course': 'MScCA'}\n",
      "{'_id': 105, 'name': 'Eugene', 'age': 24, 'course': 'MScBD'}\n",
      "{'_id': 106, 'name': 'Ferris', 'age': 25, 'course': 'MScBD'}\n"
     ]
    }
   ],
   "source": [
    "for doc in students.find({}):\n",
    "    print(doc)"
   ]
  },
  {
   "cell_type": "code",
   "execution_count": 21,
   "metadata": {},
   "outputs": [
    {
     "data": {
      "text/plain": [
       "<pymongo.results.UpdateResult at 0x224b7de4188>"
      ]
     },
     "execution_count": 21,
     "metadata": {},
     "output_type": "execute_result"
    }
   ],
   "source": [
    "students.update_one(\n",
    "    {\"_id\":102}, {\"$set\":{\"name\":\"Barbara\"}}\n",
    ")"
   ]
  },
  {
   "cell_type": "code",
   "execution_count": 22,
   "metadata": {},
   "outputs": [
    {
     "data": {
      "text/plain": [
       "{'_id': 102, 'name': 'Barbara', 'age': 22, 'course': 'MScCA'}"
      ]
     },
     "execution_count": 22,
     "metadata": {},
     "output_type": "execute_result"
    }
   ],
   "source": [
    "students.find_one({\"_id\":102})"
   ]
  },
  {
   "cell_type": "code",
   "execution_count": 23,
   "metadata": {},
   "outputs": [
    {
     "data": {
      "text/plain": [
       "<pymongo.results.UpdateResult at 0x224b80382c8>"
      ]
     },
     "execution_count": 23,
     "metadata": {},
     "output_type": "execute_result"
    }
   ],
   "source": [
    "students.update_many(\n",
    "    {\"age\":20}, {\"$set\":{\"course\":\"MScBD\"}}\n",
    ")"
   ]
  },
  {
   "cell_type": "code",
   "execution_count": 24,
   "metadata": {},
   "outputs": [
    {
     "name": "stdout",
     "output_type": "stream",
     "text": [
      "{'_id': 101, 'name': 'ALice', 'age': 21, 'course': 'MScCA'}\n",
      "{'_id': 102, 'name': 'Barbara', 'age': 22, 'course': 'MScCA'}\n",
      "{'_id': 103, 'name': 'Charles', 'age': 20, 'course': 'MScBD'}\n",
      "{'_id': 104, 'name': 'David', 'age': 20, 'course': 'MScBD'}\n",
      "{'_id': 105, 'name': 'Eugene', 'age': 24, 'course': 'MScBD'}\n",
      "{'_id': 106, 'name': 'Ferris', 'age': 25, 'course': 'MScBD'}\n"
     ]
    }
   ],
   "source": [
    "for doc in students.find({}):\n",
    "    print(doc)"
   ]
  },
  {
   "cell_type": "code",
   "execution_count": 25,
   "metadata": {},
   "outputs": [
    {
     "name": "stderr",
     "output_type": "stream",
     "text": [
      "C:\\ProgramData\\Anaconda3\\lib\\site-packages\\ipykernel_launcher.py:2: DeprecationWarning: update is deprecated. Use replace_one, update_one or update_many instead.\n",
      "  \n"
     ]
    },
    {
     "data": {
      "text/plain": [
       "{'n': 1, 'nModified': 1, 'ok': 1.0, 'updatedExisting': True}"
      ]
     },
     "execution_count": 25,
     "metadata": {},
     "output_type": "execute_result"
    }
   ],
   "source": [
    "students.update(\n",
    "    {\"_id\":106}, {\"$set\":{\"name\":\"Frank\"}}\n",
    ")"
   ]
  },
  {
   "cell_type": "code",
   "execution_count": 26,
   "metadata": {},
   "outputs": [
    {
     "data": {
      "text/plain": [
       "{'_id': 106, 'name': 'Frank', 'age': 25, 'course': 'MScBD'}"
      ]
     },
     "execution_count": 26,
     "metadata": {},
     "output_type": "execute_result"
    }
   ],
   "source": [
    "students.find_one({\"_id\":106})"
   ]
  },
  {
   "cell_type": "code",
   "execution_count": 32,
   "metadata": {},
   "outputs": [
    {
     "data": {
      "text/plain": [
       "<pymongo.results.UpdateResult at 0x224b810cf48>"
      ]
     },
     "execution_count": 32,
     "metadata": {},
     "output_type": "execute_result"
    }
   ],
   "source": [
    "students.replace_one(\n",
    "    {\"_id\":101}, {\"name\":\"Amit\"}\n",
    ")"
   ]
  },
  {
   "cell_type": "code",
   "execution_count": 33,
   "metadata": {},
   "outputs": [
    {
     "name": "stdout",
     "output_type": "stream",
     "text": [
      "{'_id': 101, 'name': 'Amit'}\n",
      "{'_id': 102, 'name': 'Barbara', 'age': 22, 'course': 'MScCA'}\n",
      "{'_id': 103, 'name': 'Charles', 'age': 20, 'course': 'MScBD'}\n",
      "{'_id': 104, 'name': 'David', 'age': 20, 'course': 'MScBD'}\n",
      "{'_id': 105, 'name': 'Eugene', 'age': 24, 'course': 'MScBD'}\n",
      "{'_id': 106, 'name': 'Frank', 'age': 25, 'course': 'MScBD'}\n"
     ]
    }
   ],
   "source": [
    "for doc in students.find({}):\n",
    "    print(doc)"
   ]
  },
  {
   "cell_type": "code",
   "execution_count": 34,
   "metadata": {},
   "outputs": [
    {
     "data": {
      "text/plain": [
       "<pymongo.results.DeleteResult at 0x224b80cbb48>"
      ]
     },
     "execution_count": 34,
     "metadata": {},
     "output_type": "execute_result"
    }
   ],
   "source": [
    "students.delete_one(\n",
    "    {\"_id\":101}\n",
    ")"
   ]
  },
  {
   "cell_type": "code",
   "execution_count": 35,
   "metadata": {},
   "outputs": [
    {
     "name": "stdout",
     "output_type": "stream",
     "text": [
      "{'_id': 102, 'name': 'Barbara', 'age': 22, 'course': 'MScCA'}\n",
      "{'_id': 103, 'name': 'Charles', 'age': 20, 'course': 'MScBD'}\n",
      "{'_id': 104, 'name': 'David', 'age': 20, 'course': 'MScBD'}\n",
      "{'_id': 105, 'name': 'Eugene', 'age': 24, 'course': 'MScBD'}\n",
      "{'_id': 106, 'name': 'Frank', 'age': 25, 'course': 'MScBD'}\n"
     ]
    }
   ],
   "source": [
    "for doc in students.find({}):\n",
    "    print(doc)"
   ]
  },
  {
   "cell_type": "code",
   "execution_count": 36,
   "metadata": {},
   "outputs": [
    {
     "data": {
      "text/plain": [
       "<pymongo.results.DeleteResult at 0x224b7d35c88>"
      ]
     },
     "execution_count": 36,
     "metadata": {},
     "output_type": "execute_result"
    }
   ],
   "source": [
    "students.delete_many(\n",
    "    {\"age\":20}\n",
    ")"
   ]
  },
  {
   "cell_type": "code",
   "execution_count": 37,
   "metadata": {},
   "outputs": [
    {
     "name": "stdout",
     "output_type": "stream",
     "text": [
      "{'_id': 102, 'name': 'Barbara', 'age': 22, 'course': 'MScCA'}\n",
      "{'_id': 105, 'name': 'Eugene', 'age': 24, 'course': 'MScBD'}\n",
      "{'_id': 106, 'name': 'Frank', 'age': 25, 'course': 'MScBD'}\n"
     ]
    }
   ],
   "source": [
    "for doc in students.find({}):\n",
    "    print(doc)"
   ]
  },
  {
   "cell_type": "code",
   "execution_count": 39,
   "metadata": {},
   "outputs": [
    {
     "name": "stdout",
     "output_type": "stream",
     "text": [
      "{'_id': 105, 'name': 'Eugene', 'age': 24, 'course': 'MScBD'}\n",
      "{'_id': 106, 'name': 'Frank', 'age': 25, 'course': 'MScBD'}\n"
     ]
    }
   ],
   "source": [
    "for doc in students.find({\"age\":{\"$gt\":23}}):\n",
    "    print(doc)"
   ]
  },
  {
   "cell_type": "code",
   "execution_count": 41,
   "metadata": {},
   "outputs": [
    {
     "name": "stderr",
     "output_type": "stream",
     "text": [
      "C:\\ProgramData\\Anaconda3\\lib\\site-packages\\ipykernel_launcher.py:1: DeprecationWarning: count is deprecated. Use Collection.count_documents instead.\n",
      "  \"\"\"Entry point for launching an IPython kernel.\n"
     ]
    },
    {
     "data": {
      "text/plain": [
       "3"
      ]
     },
     "execution_count": 41,
     "metadata": {},
     "output_type": "execute_result"
    }
   ],
   "source": [
    "students.find({}).count()"
   ]
  },
  {
   "cell_type": "code",
   "execution_count": null,
   "metadata": {},
   "outputs": [],
   "source": []
  }
 ],
 "metadata": {
  "kernelspec": {
   "display_name": "Python 3",
   "language": "python",
   "name": "python3"
  },
  "language_info": {
   "codemirror_mode": {
    "name": "ipython",
    "version": 3
   },
   "file_extension": ".py",
   "mimetype": "text/x-python",
   "name": "python",
   "nbconvert_exporter": "python",
   "pygments_lexer": "ipython3",
   "version": "3.7.4"
  }
 },
 "nbformat": 4,
 "nbformat_minor": 2
}
